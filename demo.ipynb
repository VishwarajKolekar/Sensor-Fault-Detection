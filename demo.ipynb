{
 "cells": [
  {
   "cell_type": "code",
   "execution_count": 2,
   "metadata": {},
   "outputs": [],
   "source": [
    "from sensor.utils.main_utils import read_yaml_file"
   ]
  },
  {
   "cell_type": "code",
   "execution_count": 3,
   "metadata": {},
   "outputs": [],
   "source": [
    "file_path=\"E:\\ineuron\\IndustryProjects\\Sensor-Fault-Detection\\config\\schema.yaml\""
   ]
  },
  {
   "cell_type": "code",
   "execution_count": 4,
   "metadata": {},
   "outputs": [],
   "source": [
    "schema_config = read_yaml_file(file_path=file_path)"
   ]
  },
  {
   "cell_type": "code",
   "execution_count": 5,
   "metadata": {},
   "outputs": [
    {
     "ename": "NameError",
     "evalue": "name 'df' is not defined",
     "output_type": "error",
     "traceback": [
      "\u001b[1;31m---------------------------------------------------------------------------\u001b[0m",
      "\u001b[1;31mNameError\u001b[0m                                 Traceback (most recent call last)",
      "Cell \u001b[1;32mIn[5], line 1\u001b[0m\n\u001b[1;32m----> 1\u001b[0m \u001b[39mlen\u001b[39m(schema_config[\u001b[39m'\u001b[39m\u001b[39mcolumns\u001b[39m\u001b[39m'\u001b[39m])\u001b[39m==\u001b[39m\u001b[39mlen\u001b[39m(df\u001b[39m.\u001b[39mcolumns)\n",
      "\u001b[1;31mNameError\u001b[0m: name 'df' is not defined"
     ]
    }
   ],
   "source": [
    "len(schema_config['columns'])==len(df.columns)"
   ]
  },
  {
   "cell_type": "code",
   "execution_count": 6,
   "metadata": {},
   "outputs": [],
   "source": [
    "from scipy.stats import ks_2samp"
   ]
  },
  {
   "cell_type": "code",
   "execution_count": 7,
   "metadata": {},
   "outputs": [],
   "source": [
    "import numpy as np"
   ]
  },
  {
   "cell_type": "code",
   "execution_count": 8,
   "metadata": {},
   "outputs": [],
   "source": [
    "d1 = np.arange(100,200)\n",
    "d2 = np.arange(10)"
   ]
  },
  {
   "cell_type": "code",
   "execution_count": 9,
   "metadata": {},
   "outputs": [
    {
     "data": {
      "text/plain": [
       "array([100, 101, 102, 103, 104, 105, 106, 107, 108, 109, 110, 111, 112,\n",
       "       113, 114, 115, 116, 117, 118, 119, 120, 121, 122, 123, 124, 125,\n",
       "       126, 127, 128, 129, 130, 131, 132, 133, 134, 135, 136, 137, 138,\n",
       "       139, 140, 141, 142, 143, 144, 145, 146, 147, 148, 149, 150, 151,\n",
       "       152, 153, 154, 155, 156, 157, 158, 159, 160, 161, 162, 163, 164,\n",
       "       165, 166, 167, 168, 169, 170, 171, 172, 173, 174, 175, 176, 177,\n",
       "       178, 179, 180, 181, 182, 183, 184, 185, 186, 187, 188, 189, 190,\n",
       "       191, 192, 193, 194, 195, 196, 197, 198, 199])"
      ]
     },
     "execution_count": 9,
     "metadata": {},
     "output_type": "execute_result"
    }
   ],
   "source": [
    "d1"
   ]
  },
  {
   "cell_type": "code",
   "execution_count": 10,
   "metadata": {},
   "outputs": [
    {
     "data": {
      "text/plain": [
       "array([0, 1, 2, 3, 4, 5, 6, 7, 8, 9])"
      ]
     },
     "execution_count": 10,
     "metadata": {},
     "output_type": "execute_result"
    }
   ],
   "source": [
    "d2"
   ]
  },
  {
   "cell_type": "code",
   "execution_count": 11,
   "metadata": {},
   "outputs": [
    {
     "data": {
      "text/plain": [
       "array([100, 101, 102, 103, 104, 105, 106, 107, 108, 109, 110, 111, 112,\n",
       "       113, 114, 115, 116, 117, 118, 119, 120, 121, 122, 123, 124, 125,\n",
       "       126, 127, 128, 129, 130, 131, 132, 133, 134, 135, 136, 137, 138,\n",
       "       139, 140, 141, 142, 143, 144, 145, 146, 147, 148, 149, 150, 151,\n",
       "       152, 153, 154, 155, 156, 157, 158, 159, 160, 161, 162, 163, 164,\n",
       "       165, 166, 167, 168, 169, 170, 171, 172, 173, 174, 175, 176, 177,\n",
       "       178, 179, 180, 181, 182, 183, 184, 185, 186, 187, 188, 189, 190,\n",
       "       191, 192, 193, 194, 195, 196, 197, 198, 199])"
      ]
     },
     "execution_count": 11,
     "metadata": {},
     "output_type": "execute_result"
    }
   ],
   "source": [
    "d1"
   ]
  },
  {
   "cell_type": "code",
   "execution_count": 12,
   "metadata": {},
   "outputs": [
    {
     "data": {
      "text/plain": [
       "array([0, 1, 2, 3, 4, 5, 6, 7, 8, 9])"
      ]
     },
     "execution_count": 12,
     "metadata": {},
     "output_type": "execute_result"
    }
   ],
   "source": [
    "d2"
   ]
  },
  {
   "cell_type": "code",
   "execution_count": 13,
   "metadata": {},
   "outputs": [],
   "source": [
    "test = ks_2samp(d1,d2)"
   ]
  },
  {
   "cell_type": "code",
   "execution_count": 14,
   "metadata": {},
   "outputs": [
    {
     "data": {
      "text/plain": [
       "0"
      ]
     },
     "execution_count": 14,
     "metadata": {},
     "output_type": "execute_result"
    }
   ],
   "source": [
    "round(test.pvalue)"
   ]
  },
  {
   "cell_type": "code",
   "execution_count": 20,
   "metadata": {},
   "outputs": [],
   "source": [
    "traing_file_path = \"artifact/04_14_2023_23_49_19/data_ingestion/ingested/train.csv\""
   ]
  },
  {
   "cell_type": "code",
   "execution_count": 19,
   "metadata": {},
   "outputs": [],
   "source": [
    "test_file_path = \"artifact/04_14_2023_23_49_19/data_ingestion/ingested/test.csv\""
   ]
  },
  {
   "cell_type": "code",
   "execution_count": 17,
   "metadata": {},
   "outputs": [],
   "source": [
    "import pandas as pd"
   ]
  },
  {
   "cell_type": "code",
   "execution_count": 21,
   "metadata": {},
   "outputs": [],
   "source": [
    "train_df = pd.read_csv(traing_file_path)\n",
    "test_df = pd.read_csv(test_file_path)"
   ]
  },
  {
   "cell_type": "code",
   "execution_count": 22,
   "metadata": {},
   "outputs": [
    {
     "data": {
      "text/plain": [
       "Index(['class', 'aa_000', 'ac_000', 'ad_000', 'ae_000', 'af_000', 'ag_000',\n",
       "       'ag_001', 'ag_002', 'ag_003',\n",
       "       ...\n",
       "       'ee_002', 'ee_003', 'ee_004', 'ee_005', 'ee_006', 'ee_007', 'ee_008',\n",
       "       'ee_009', 'ef_000', 'eg_000'],\n",
       "      dtype='object', length=164)"
      ]
     },
     "execution_count": 22,
     "metadata": {},
     "output_type": "execute_result"
    }
   ],
   "source": [
    "train_df.columns"
   ]
  },
  {
   "cell_type": "code",
   "execution_count": 23,
   "metadata": {},
   "outputs": [
    {
     "data": {
      "text/plain": [
       "Index(['class', 'aa_000', 'ac_000', 'ad_000', 'ae_000', 'af_000', 'ag_000',\n",
       "       'ag_001', 'ag_002', 'ag_003',\n",
       "       ...\n",
       "       'ee_002', 'ee_003', 'ee_004', 'ee_005', 'ee_006', 'ee_007', 'ee_008',\n",
       "       'ee_009', 'ef_000', 'eg_000'],\n",
       "      dtype='object', length=164)"
      ]
     },
     "execution_count": 23,
     "metadata": {},
     "output_type": "execute_result"
    }
   ],
   "source": [
    "test_df.columns"
   ]
  },
  {
   "cell_type": "code",
   "execution_count": 24,
   "metadata": {},
   "outputs": [],
   "source": [
    "from sensor.utils.main_utils import write_yaml_file"
   ]
  },
  {
   "cell_type": "code",
   "execution_count": 27,
   "metadata": {},
   "outputs": [],
   "source": [
    "\n",
    "def get_drift_report(base_df,current_df,threshold=0.05):\n",
    "    report ={}\n",
    "    for column in base_df.columns:\n",
    "        d1 = base_df[column]\n",
    "        d2  = current_df[column]\n",
    "        is_same_dist = ks_2samp(d1,d2)\n",
    "        if threshold<=is_same_dist.pvalue:\n",
    "            is_found=False\n",
    "        else:\n",
    "            is_found = True \n",
    "        report.update({column:{\n",
    "            \"p_value\":float(is_same_dist.pvalue),\n",
    "            \"drift_status\":is_found\n",
    "            \n",
    "            }})\n",
    "    return report\n",
    "\n"
   ]
  },
  {
   "cell_type": "code",
   "execution_count": 28,
   "metadata": {},
   "outputs": [],
   "source": [
    "drift_report = get_drift_report(train_df,test_df)"
   ]
  },
  {
   "cell_type": "code",
   "execution_count": 29,
   "metadata": {},
   "outputs": [
    {
     "data": {
      "text/plain": [
       "{'class': {'p_value': 1.0, 'drift_status': False},\n",
       " 'aa_000': {'p_value': 0.011252538210652642, 'drift_status': True},\n",
       " 'ac_000': {'p_value': 0.2592157727379347, 'drift_status': False},\n",
       " 'ad_000': {'p_value': 0.014000372284973858, 'drift_status': True},\n",
       " 'ae_000': {'p_value': 0.9999999961201351, 'drift_status': False},\n",
       " 'af_000': {'p_value': 0.999999892430308, 'drift_status': False},\n",
       " 'ag_000': {'p_value': 1.0, 'drift_status': False},\n",
       " 'ag_001': {'p_value': 1.0, 'drift_status': False},\n",
       " 'ag_002': {'p_value': 0.999692845184693, 'drift_status': False},\n",
       " 'ag_003': {'p_value': 0.5840101095639024, 'drift_status': False},\n",
       " 'ag_004': {'p_value': 0.17114912205144373, 'drift_status': False},\n",
       " 'ag_005': {'p_value': 0.0027141620831688854, 'drift_status': True},\n",
       " 'ag_006': {'p_value': 0.03858484190529132, 'drift_status': True},\n",
       " 'ag_007': {'p_value': 0.10756164092833043, 'drift_status': False},\n",
       " 'ag_008': {'p_value': 0.7209894866753797, 'drift_status': False},\n",
       " 'ag_009': {'p_value': 0.8021877716138746, 'drift_status': False},\n",
       " 'ah_000': {'p_value': 0.019044585281077157, 'drift_status': True},\n",
       " 'ai_000': {'p_value': 0.9995343204642252, 'drift_status': False},\n",
       " 'aj_000': {'p_value': 0.9501841644683796, 'drift_status': False},\n",
       " 'ak_000': {'p_value': 1.0, 'drift_status': False},\n",
       " 'al_000': {'p_value': 0.5448051326442651, 'drift_status': False},\n",
       " 'am_0': {'p_value': 0.5522180127142317, 'drift_status': False},\n",
       " 'an_000': {'p_value': 0.01206574585301306, 'drift_status': True},\n",
       " 'ao_000': {'p_value': 0.013598909509401081, 'drift_status': True},\n",
       " 'ap_000': {'p_value': 0.023406096596813135, 'drift_status': True},\n",
       " 'aq_000': {'p_value': 0.024102964243734395, 'drift_status': True},\n",
       " 'ar_000': {'p_value': 0.9999999997090563, 'drift_status': False},\n",
       " 'as_000': {'p_value': 1.0, 'drift_status': False},\n",
       " 'at_000': {'p_value': 0.9999988625730802, 'drift_status': False},\n",
       " 'au_000': {'p_value': 1.0, 'drift_status': False},\n",
       " 'av_000': {'p_value': 0.329574106103934, 'drift_status': False},\n",
       " 'ax_000': {'p_value': 0.5608986794077524, 'drift_status': False},\n",
       " 'ay_000': {'p_value': 1.0, 'drift_status': False},\n",
       " 'ay_001': {'p_value': 0.9999999056668143, 'drift_status': False},\n",
       " 'ay_002': {'p_value': 0.999999905831302, 'drift_status': False},\n",
       " 'ay_003': {'p_value': 0.9999987139700729, 'drift_status': False},\n",
       " 'ay_004': {'p_value': 0.9990151778107014, 'drift_status': False},\n",
       " 'ay_005': {'p_value': 0.012685928964622683, 'drift_status': True},\n",
       " 'ay_006': {'p_value': 0.030015260734134408, 'drift_status': True},\n",
       " 'ay_007': {'p_value': 0.012456505137498994, 'drift_status': True},\n",
       " 'ay_008': {'p_value': 0.003740564865376567, 'drift_status': True},\n",
       " 'ay_009': {'p_value': 1.0, 'drift_status': False},\n",
       " 'az_000': {'p_value': 0.252615330157412, 'drift_status': False},\n",
       " 'az_001': {'p_value': 0.02680807754806236, 'drift_status': True},\n",
       " 'az_002': {'p_value': 0.04457037373445072, 'drift_status': True},\n",
       " 'az_003': {'p_value': 0.14033800904672167, 'drift_status': False},\n",
       " 'az_004': {'p_value': 0.15738363159554702, 'drift_status': False},\n",
       " 'az_005': {'p_value': 0.013330162560696789, 'drift_status': True},\n",
       " 'az_006': {'p_value': 0.49087213519876216, 'drift_status': False},\n",
       " 'az_007': {'p_value': 0.9687031087040884, 'drift_status': False},\n",
       " 'az_008': {'p_value': 0.9998770182265155, 'drift_status': False},\n",
       " 'az_009': {'p_value': 0.9999999999999998, 'drift_status': False},\n",
       " 'ba_000': {'p_value': 0.0298459636425894, 'drift_status': True},\n",
       " 'ba_001': {'p_value': 0.0314865610963192, 'drift_status': True},\n",
       " 'ba_002': {'p_value': 0.031511994572128055, 'drift_status': True},\n",
       " 'ba_003': {'p_value': 0.0263423646933465, 'drift_status': True},\n",
       " 'ba_004': {'p_value': 0.02942977705813543, 'drift_status': True},\n",
       " 'ba_005': {'p_value': 0.02746035929988344, 'drift_status': True},\n",
       " 'ba_006': {'p_value': 0.007750389469145078, 'drift_status': True},\n",
       " 'ba_007': {'p_value': 0.14878670138607997, 'drift_status': False},\n",
       " 'ba_008': {'p_value': 0.6224219032097982, 'drift_status': False},\n",
       " 'ba_009': {'p_value': 0.7110487706374423, 'drift_status': False},\n",
       " 'bb_000': {'p_value': 0.019590328162929625, 'drift_status': True},\n",
       " 'bc_000': {'p_value': 0.30886246199577705, 'drift_status': False},\n",
       " 'bd_000': {'p_value': 0.186379886401022, 'drift_status': False},\n",
       " 'be_000': {'p_value': 0.03289497388349005, 'drift_status': True},\n",
       " 'bf_000': {'p_value': 0.5943984019178954, 'drift_status': False},\n",
       " 'bg_000': {'p_value': 0.018503789501747095, 'drift_status': True},\n",
       " 'bh_000': {'p_value': 0.03558012068028793, 'drift_status': True},\n",
       " 'bi_000': {'p_value': 0.029882977800679278, 'drift_status': True},\n",
       " 'bj_000': {'p_value': 0.026900922248679793, 'drift_status': True},\n",
       " 'bk_000': {'p_value': 0.17353573720512971, 'drift_status': False},\n",
       " 'bl_000': {'p_value': 0.3043546094681707, 'drift_status': False},\n",
       " 'bm_000': {'p_value': 0.9427872088391437, 'drift_status': False},\n",
       " 'bs_000': {'p_value': 0.007052100849497079, 'drift_status': True},\n",
       " 'bt_000': {'p_value': 0.013682318585126804, 'drift_status': True},\n",
       " 'bu_000': {'p_value': 0.021040646079695066, 'drift_status': True},\n",
       " 'bv_000': {'p_value': 0.021040646079695066, 'drift_status': True},\n",
       " 'bx_000': {'p_value': 0.021343029496748486, 'drift_status': True},\n",
       " 'by_000': {'p_value': 0.04331883472620113, 'drift_status': True},\n",
       " 'bz_000': {'p_value': 0.0040944071711250234, 'drift_status': True},\n",
       " 'ca_000': {'p_value': 0.009211604365540702, 'drift_status': True},\n",
       " 'cb_000': {'p_value': 0.002899298997209776, 'drift_status': True},\n",
       " 'cc_000': {'p_value': 0.022269033252224114, 'drift_status': True},\n",
       " 'cd_000': {'p_value': 1.0, 'drift_status': False},\n",
       " 'ce_000': {'p_value': 0.6517605943796624, 'drift_status': False},\n",
       " 'cf_000': {'p_value': 0.5404674829208549, 'drift_status': False},\n",
       " 'cg_000': {'p_value': 0.16718042106180486, 'drift_status': False},\n",
       " 'ch_000': {'p_value': 0.9999244403579882, 'drift_status': False},\n",
       " 'ci_000': {'p_value': 0.013995937311786494, 'drift_status': True},\n",
       " 'cj_000': {'p_value': 0.7247510488117755, 'drift_status': False},\n",
       " 'ck_000': {'p_value': 0.07122190724261557, 'drift_status': False},\n",
       " 'cl_000': {'p_value': 0.9996043061546255, 'drift_status': False},\n",
       " 'cm_000': {'p_value': 0.8751574797937692, 'drift_status': False},\n",
       " 'cn_000': {'p_value': 1.0, 'drift_status': False},\n",
       " 'cn_001': {'p_value': 0.9869928188985816, 'drift_status': False},\n",
       " 'cn_002': {'p_value': 0.29958859119933734, 'drift_status': False},\n",
       " 'cn_003': {'p_value': 0.005618895733859791, 'drift_status': True},\n",
       " 'cn_004': {'p_value': 0.008514933135852165, 'drift_status': True},\n",
       " 'cn_005': {'p_value': 0.03375076280625544, 'drift_status': True},\n",
       " 'cn_006': {'p_value': 0.03909415816846529, 'drift_status': True},\n",
       " 'cn_007': {'p_value': 0.027491040238580955, 'drift_status': True},\n",
       " 'cn_008': {'p_value': 0.033859009619952474, 'drift_status': True},\n",
       " 'cn_009': {'p_value': 0.4168202423677876, 'drift_status': False},\n",
       " 'co_000': {'p_value': 0.4083224402633985, 'drift_status': False},\n",
       " 'cp_000': {'p_value': 0.8466809922266147, 'drift_status': False},\n",
       " 'cq_000': {'p_value': 0.021040646079695066, 'drift_status': True},\n",
       " 'cs_000': {'p_value': 0.3297058772851864, 'drift_status': False},\n",
       " 'cs_001': {'p_value': 0.012312587895701143, 'drift_status': True},\n",
       " 'cs_002': {'p_value': 0.027032121738467696, 'drift_status': True},\n",
       " 'cs_003': {'p_value': 0.03553190104662718, 'drift_status': True},\n",
       " 'cs_004': {'p_value': 0.07563980147423632, 'drift_status': False},\n",
       " 'cs_005': {'p_value': 0.0492679712007541, 'drift_status': True},\n",
       " 'cs_006': {'p_value': 0.033287855919467924, 'drift_status': True},\n",
       " 'cs_007': {'p_value': 0.043151020996297085, 'drift_status': True},\n",
       " 'cs_008': {'p_value': 0.010008166825828328, 'drift_status': True},\n",
       " 'cs_009': {'p_value': 1.0, 'drift_status': False},\n",
       " 'ct_000': {'p_value': 0.030230994120578725, 'drift_status': True},\n",
       " 'cu_000': {'p_value': 0.017918561110759127, 'drift_status': True},\n",
       " 'cv_000': {'p_value': 0.038595974341403716, 'drift_status': True},\n",
       " 'cx_000': {'p_value': 0.00032196671233635004, 'drift_status': True},\n",
       " 'cy_000': {'p_value': 0.9065960275443677, 'drift_status': False},\n",
       " 'cz_000': {'p_value': 0.10852600686921066, 'drift_status': False},\n",
       " 'da_000': {'p_value': 0.9842757412731956, 'drift_status': False},\n",
       " 'db_000': {'p_value': 0.47965295780353867, 'drift_status': False},\n",
       " 'dc_000': {'p_value': 0.03759000613154495, 'drift_status': True},\n",
       " 'dd_000': {'p_value': 0.10069513673939923, 'drift_status': False},\n",
       " 'de_000': {'p_value': 0.08991958000637146, 'drift_status': False},\n",
       " 'df_000': {'p_value': 1.0, 'drift_status': False},\n",
       " 'dg_000': {'p_value': 1.0, 'drift_status': False},\n",
       " 'dh_000': {'p_value': 0.9998697217132371, 'drift_status': False},\n",
       " 'di_000': {'p_value': 0.6530620250849029, 'drift_status': False},\n",
       " 'dj_000': {'p_value': 1.0, 'drift_status': False},\n",
       " 'dk_000': {'p_value': 1.0, 'drift_status': False},\n",
       " 'dl_000': {'p_value': 1.0, 'drift_status': False},\n",
       " 'dm_000': {'p_value': 1.0, 'drift_status': False},\n",
       " 'dn_000': {'p_value': 0.04456084481957345, 'drift_status': True},\n",
       " 'do_000': {'p_value': 0.04233585813824137, 'drift_status': True},\n",
       " 'dp_000': {'p_value': 0.014296783913863603, 'drift_status': True},\n",
       " 'dq_000': {'p_value': 0.2838916179351184, 'drift_status': False},\n",
       " 'dr_000': {'p_value': 0.2351168309835937, 'drift_status': False},\n",
       " 'ds_000': {'p_value': 0.028040645220444693, 'drift_status': True},\n",
       " 'dt_000': {'p_value': 0.07494090195887615, 'drift_status': False},\n",
       " 'du_000': {'p_value': 0.003371623636063064, 'drift_status': True},\n",
       " 'dv_000': {'p_value': 0.0027986423057944896, 'drift_status': True},\n",
       " 'dx_000': {'p_value': 0.4217224679549778, 'drift_status': False},\n",
       " 'dy_000': {'p_value': 0.19757247945562617, 'drift_status': False},\n",
       " 'dz_000': {'p_value': 1.0, 'drift_status': False},\n",
       " 'ea_000': {'p_value': 1.0, 'drift_status': False},\n",
       " 'eb_000': {'p_value': 0.022060415873823836, 'drift_status': True},\n",
       " 'ec_00': {'p_value': 0.21144758576366218, 'drift_status': False},\n",
       " 'ed_000': {'p_value': 0.19690101576706687, 'drift_status': False},\n",
       " 'ee_000': {'p_value': 0.08329850860640897, 'drift_status': False},\n",
       " 'ee_001': {'p_value': 0.03218268912662714, 'drift_status': True},\n",
       " 'ee_002': {'p_value': 0.021724038733954038, 'drift_status': True},\n",
       " 'ee_003': {'p_value': 0.03250445948979774, 'drift_status': True},\n",
       " 'ee_004': {'p_value': 0.00495828247687479, 'drift_status': True},\n",
       " 'ee_005': {'p_value': 0.00027778256373450083, 'drift_status': True},\n",
       " 'ee_006': {'p_value': 0.006377091334293135, 'drift_status': True},\n",
       " 'ee_007': {'p_value': 0.017828950221523462, 'drift_status': True},\n",
       " 'ee_008': {'p_value': 0.04463074314287485, 'drift_status': True},\n",
       " 'ee_009': {'p_value': 0.8944752406007539, 'drift_status': False},\n",
       " 'ef_000': {'p_value': 1.0, 'drift_status': False},\n",
       " 'eg_000': {'p_value': 1.0, 'drift_status': False}}"
      ]
     },
     "execution_count": 29,
     "metadata": {},
     "output_type": "execute_result"
    }
   ],
   "source": [
    "drift_report"
   ]
  },
  {
   "cell_type": "code",
   "execution_count": 31,
   "metadata": {},
   "outputs": [],
   "source": [
    "import os\n",
    "write_yaml_file(file_path=os.path.join(os.getcwd(),\"report.yaml\"),content=drift_report,replace=True)"
   ]
  },
  {
   "cell_type": "code",
   "execution_count": 32,
   "metadata": {},
   "outputs": [
    {
     "data": {
      "text/plain": [
       "KstestResult(statistic=5.838240195532585e-05, pvalue=1.0, statistic_location='neg', statistic_sign=-1)"
      ]
     },
     "execution_count": 32,
     "metadata": {},
     "output_type": "execute_result"
    }
   ],
   "source": [
    "d1 = train_df['class']\n",
    "d2  = test_df['class']\n",
    "ks_2samp(d1,d2)"
   ]
  },
  {
   "cell_type": "code",
   "execution_count": 41,
   "metadata": {},
   "outputs": [
    {
     "data": {
      "text/plain": [
       "KstestResult(statistic=0.009896540089462558, pvalue=0.6183763526162667)"
      ]
     },
     "execution_count": 41,
     "metadata": {},
     "output_type": "execute_result"
    }
   ],
   "source": []
  },
  {
   "cell_type": "code",
   "execution_count": 1,
   "metadata": {},
   "outputs": [],
   "source": [
    "from sensor.ml.model.estimator import TargetValueMapping"
   ]
  },
  {
   "cell_type": "code",
   "execution_count": 4,
   "metadata": {},
   "outputs": [
    {
     "data": {
      "text/plain": [
       "{'neg': 0, 'pos': 1}"
      ]
     },
     "execution_count": 4,
     "metadata": {},
     "output_type": "execute_result"
    }
   ],
   "source": [
    ".to_dict()TargetValueMapping()"
   ]
  },
  {
   "cell_type": "code",
   "execution_count": 5,
   "metadata": {},
   "outputs": [
    {
     "data": {
      "text/plain": [
       "{0: 'neg', 1: 'pos'}"
      ]
     },
     "execution_count": 5,
     "metadata": {},
     "output_type": "execute_result"
    }
   ],
   "source": [
    "TargetValueMapping().reverse_mapping()"
   ]
  },
  {
   "cell_type": "code",
   "execution_count": null,
   "metadata": {},
   "outputs": [],
   "source": []
  }
 ],
 "metadata": {
  "kernelspec": {
   "display_name": "Python 3.8.0",
   "language": "python",
   "name": "python3"
  },
  "language_info": {
   "codemirror_mode": {
    "name": "ipython",
    "version": 3
   },
   "file_extension": ".py",
   "mimetype": "text/x-python",
   "name": "python",
   "nbconvert_exporter": "python",
   "pygments_lexer": "ipython3",
   "version": "3.8.0"
  },
  "orig_nbformat": 4,
  "vscode": {
   "interpreter": {
    "hash": "b72e580c0bffab286d31de55f9835d3cbded1a9a1d5f167cfa5ab7d14b451225"
   }
  }
 },
 "nbformat": 4,
 "nbformat_minor": 2
}
